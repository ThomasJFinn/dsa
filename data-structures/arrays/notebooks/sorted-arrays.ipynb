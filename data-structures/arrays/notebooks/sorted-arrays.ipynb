{
 "cells": [
  {
   "cell_type": "markdown",
   "metadata": {},
   "source": [
    "## Sorted arrays"
   ]
  },
  {
   "cell_type": "code",
   "execution_count": 1,
   "metadata": {},
   "outputs": [],
   "source": [
    "import sys\n",
    "import os\n",
    "from typing import Union\n",
    "\n",
    "# Add the root of your project \n",
    "project_root = os.path.abspath(os.path.join(os.getcwd(), '..', '..', '..'))\n",
    "sys.path.append(os.path.abspath(project_root))\n",
    "\n",
    "from python.arrays.core import Array\n",
    "from python.arrays.sorted_array import SortedArray"
   ]
  },
  {
   "cell_type": "code",
   "execution_count": 2,
   "metadata": {},
   "outputs": [
    {
     "name": "stdout",
     "output_type": "stream",
     "text": [
      "SortedArray(array('f'))\n"
     ]
    }
   ],
   "source": [
    "arr = SortedArray(5, 'f')\n",
    "print(arr)"
   ]
  },
  {
   "cell_type": "code",
   "execution_count": 3,
   "metadata": {},
   "outputs": [
    {
     "name": "stdout",
     "output_type": "stream",
     "text": [
      "SortedArray(array('f', [-10.0, 1.0, 4.0, 5.0]))\n"
     ]
    }
   ],
   "source": [
    "arr.insert(4.0)\n",
    "arr.insert(5.0)\n",
    "arr.insert(1.0)\n",
    "arr.insert(-10.0)\n",
    "print(arr)"
   ]
  },
  {
   "cell_type": "code",
   "execution_count": 4,
   "metadata": {},
   "outputs": [
    {
     "name": "stdout",
     "output_type": "stream",
     "text": [
      "4\n"
     ]
    }
   ],
   "source": [
    "print(len(arr))"
   ]
  },
  {
   "cell_type": "code",
   "execution_count": 5,
   "metadata": {},
   "outputs": [],
   "source": [
    "arr = SortedArray(20_000, 'f')\n",
    "\n",
    "# Generate 100_000 random floats between 0.0 and 100.0\n",
    "import random\n",
    "nums = [random.uniform(0, 100) for _ in range(20_000)]\n",
    "\n",
    "\n",
    "for num in nums:\n",
    "    arr.insert(num)\n",
    "\n",
    "value_to_search = arr[15067]"
   ]
  },
  {
   "cell_type": "code",
   "execution_count": 6,
   "metadata": {},
   "outputs": [
    {
     "name": "stdout",
     "output_type": "stream",
     "text": [
      "Function 'linear_search' executed in 0.00331187 seconds\n",
      "Function 'binary_search' executed in 0.00001001 seconds\n"
     ]
    },
    {
     "data": {
      "text/plain": [
       "15067"
      ]
     },
     "execution_count": 6,
     "metadata": {},
     "output_type": "execute_result"
    }
   ],
   "source": [
    "from python.utils.func_utils import time_func\n",
    "\n",
    "arr.linear_search = time_func(arr.linear_search)\n",
    "arr.linear_search(value_to_search)\n",
    "\n",
    "arr.binary_search = time_func(arr.binary_search)\n",
    "arr.binary_search(value_to_search)"
   ]
  }
 ],
 "metadata": {
  "kernelspec": {
   "display_name": "dsa",
   "language": "python",
   "name": "python3"
  },
  "language_info": {
   "codemirror_mode": {
    "name": "ipython",
    "version": 3
   },
   "file_extension": ".py",
   "mimetype": "text/x-python",
   "name": "python",
   "nbconvert_exporter": "python",
   "pygments_lexer": "ipython3",
   "version": "3.12.9"
  }
 },
 "nbformat": 4,
 "nbformat_minor": 2
}
