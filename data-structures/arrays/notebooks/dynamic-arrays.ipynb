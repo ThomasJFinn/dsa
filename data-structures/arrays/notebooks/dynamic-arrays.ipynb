{
 "cells": [
  {
   "cell_type": "markdown",
   "metadata": {},
   "source": [
    "## Dynamic arrays"
   ]
  },
  {
   "cell_type": "code",
   "execution_count": 2,
   "metadata": {},
   "outputs": [],
   "source": [
    "import sys\n",
    "import os\n",
    "from typing import Union\n",
    "\n",
    "# Add the root of your project \n",
    "project_root = os.path.abspath(os.path.join(os.getcwd(), '..', '..', '..'))\n",
    "sys.path.append(os.path.abspath(project_root))\n",
    "\n",
    "from python.arrays.core import Array\n",
    "from python.arrays.dynamic_array import DynamicArray"
   ]
  },
  {
   "cell_type": "code",
   "execution_count": 7,
   "metadata": {},
   "outputs": [
    {
     "name": "stdout",
     "output_type": "stream",
     "text": [
      "array('f', [4.0, 5.0, -1.0])\n"
     ]
    }
   ],
   "source": [
    "arr = DynamicArray(2, 'f')\n",
    "arr.insert(4.0)\n",
    "arr.insert(5.0)\n",
    "arr.insert(-1.0)\n",
    "print(arr)"
   ]
  },
  {
   "cell_type": "code",
   "execution_count": 8,
   "metadata": {},
   "outputs": [
    {
     "name": "stdout",
     "output_type": "stream",
     "text": [
      "array('f', [4.0, 5.0, -1.0, 5.0, 8.0])\n",
      "8\n"
     ]
    }
   ],
   "source": [
    "arr.insert(5.0)\n",
    "arr.insert(8.0)\n",
    "print(arr)\n",
    "print(arr._capacity)"
   ]
  }
 ],
 "metadata": {
  "kernelspec": {
   "display_name": "dsa",
   "language": "python",
   "name": "python3"
  },
  "language_info": {
   "codemirror_mode": {
    "name": "ipython",
    "version": 3
   },
   "file_extension": ".py",
   "mimetype": "text/x-python",
   "name": "python",
   "nbconvert_exporter": "python",
   "pygments_lexer": "ipython3",
   "version": "3.12.9"
  }
 },
 "nbformat": 4,
 "nbformat_minor": 2
}
