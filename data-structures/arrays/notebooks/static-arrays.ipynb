{
 "cells": [
  {
   "cell_type": "markdown",
   "metadata": {},
   "source": [
    "## Static arrays\n",
    "\n",
    "An array is one the most fundamental data structures in computer science. \n",
    "Arrays store information that is accessed via an index. \n",
    "For example, an array with five values stored is displayed below.\n",
    "\n",
    "| **Value** | 2 | 12 | 4 | 5 | 12 |\n",
    "| :- | -: | -: | -: | -: | -: |\n",
    "| **Index** | 0 | 1 | 2 | 3 | 4 | \n",
    "\n",
    "The value associated to the index `2` is the integer `4`.\n",
    "Thus if we want to access the element at index `2` we do not need to sequentially traverse the array.\n",
    "We simply access the element at index `2` directly.\n",
    "\n",
    "*Note*: We use the convention that indexes start at 0. \n",
    "Python obeys this convention but some languages like Julia and MATLAB start indexes at 1.\n",
    "\n",
    "There are two important considerations for building arrays:\n",
    " * Arrays are stored as contiguous blocks of memory. \n",
    " * The size of the array must be explicitly set upon creation to store in memory.\n",
    "\n",
    "To create our array above we would have to declare we are creating an array with five elements. \n",
    "We would be extremely efficient with our memory allocation but would not be able to add more elements to the array without deeper consideration.\n",
    "\n",
    "An array is *static* if the size is declared upon creation.\n",
    "An array is *dynamic* if the size is permitted to change to account for the insertion or deletion of many new entries."
   ]
  },
  {
   "cell_type": "markdown",
   "metadata": {},
   "source": [
    "### Setting up"
   ]
  },
  {
   "cell_type": "code",
   "execution_count": 2,
   "metadata": {},
   "outputs": [],
   "source": [
    "import sys\n",
    "import os\n",
    "from typing import Union\n",
    "\n",
    "# Add the root of your project \n",
    "project_root = os.path.abspath(os.path.join(os.getcwd(), '..', '..', '..'))\n",
    "sys.path.append(os.path.abspath(project_root))\n",
    "\n",
    "from python.arrays.core import Array\n",
    "from python.arrays.unsorted_array import UnsortedArray"
   ]
  },
  {
   "cell_type": "markdown",
   "metadata": {},
   "source": [
    "### Creating a static array \n",
    "\n",
    "We import the `Array` class that creates a static array. For example, calling\n",
    "\n",
    "`Array(5)`\n",
    "\n",
    "creates a static array of five elements. By default the elements are defined to be integers with initial value 0. For floats with initial value 0.0, we call:"
   ]
  },
  {
   "cell_type": "code",
   "execution_count": 3,
   "metadata": {},
   "outputs": [
    {
     "name": "stdout",
     "output_type": "stream",
     "text": [
      "array('f', [0.0, 0.0, 0.0, 0.0, 0.0])\n"
     ]
    }
   ],
   "source": [
    "b = Array(5, 'f')\n",
    "print(b)"
   ]
  },
  {
   "cell_type": "markdown",
   "metadata": {},
   "source": [
    "Our array class is an *empty container*. \n",
    "The values it hold do not contain any meaning and helps us build more complex array objects.\n",
    "Indeed, we use `Array` to construct `UnsortedArray` where we can perform operations on arrays.\n",
    "\n",
    "The philosophy we take is that `UnsortedArray` wraps around and *encapsulates* our `Array` class.\n",
    "\n",
    "For example, we set the `max_size` of the array to be five and the initial `size` of the array is zero."
   ]
  },
  {
   "cell_type": "code",
   "execution_count": 8,
   "metadata": {},
   "outputs": [
    {
     "name": "stdout",
     "output_type": "stream",
     "text": [
      "Number of elements in array: 0\n",
      "String representation of array: UnsortedArray(array('f'))\n"
     ]
    }
   ],
   "source": [
    "arr = UnsortedArray(5, 'f')\n",
    "print(f\"Number of elements in array: {arr.__len__()}\")\n",
    "print(f\"String representation of array: {arr.__repr__()}\")"
   ]
  },
  {
   "cell_type": "markdown",
   "metadata": {},
   "source": [
    "We can add an element to the array that is placed at index 0."
   ]
  },
  {
   "cell_type": "code",
   "execution_count": 9,
   "metadata": {},
   "outputs": [
    {
     "name": "stdout",
     "output_type": "stream",
     "text": [
      "Number of elements in array: 1\n",
      "String representation of array: UnsortedArray(array('f', [2.0]))\n"
     ]
    }
   ],
   "source": [
    "arr.insert(2.0)\n",
    "print(f\"Number of elements in array: {arr.__len__()}\")\n",
    "print(f\"String representation of array: {arr.__repr__()}\")"
   ]
  },
  {
   "cell_type": "markdown",
   "metadata": {},
   "source": [
    "The value at index 0 can easily be deleted."
   ]
  },
  {
   "cell_type": "code",
   "execution_count": 10,
   "metadata": {},
   "outputs": [
    {
     "name": "stdout",
     "output_type": "stream",
     "text": [
      "Number of elements in array: 0\n",
      "String representation of array: UnsortedArray(array('f'))\n"
     ]
    }
   ],
   "source": [
    "arr.delete(0)\n",
    "print(f\"Number of elements in array: {arr.__len__()}\")\n",
    "print(f\"String representation of array: {arr.__repr__()}\")"
   ]
  },
  {
   "cell_type": "code",
   "execution_count": 11,
   "metadata": {},
   "outputs": [
    {
     "name": "stdout",
     "output_type": "stream",
     "text": [
      "Not 113 :-(\n",
      "Not 113 :-(\n",
      "Found 113!\n",
      "Not 113 :-(\n",
      "String representation of array: UnsortedArray(array('f', [2.0, 4.0, 113.0, 7.0]))\n"
     ]
    }
   ],
   "source": [
    "arr.insert(2.0)\n",
    "arr.insert(4.0)\n",
    "arr.insert(113.0)\n",
    "arr.insert(7.0)\n",
    "arr.traverse(lambda x: print(\"Found 113!\") if x == 113 else print(\"Not 113 :-(\"))\n",
    "print(f\"String representation of array: {arr.__repr__()}\")"
   ]
  },
  {
   "cell_type": "code",
   "execution_count": 12,
   "metadata": {},
   "outputs": [
    {
     "name": "stdout",
     "output_type": "stream",
     "text": [
      "String representation of array: UnsortedArray(array('f', [2.0, 4.0, 7.0]))\n"
     ]
    }
   ],
   "source": [
    "arr.delete(2)\n",
    "print(f\"String representation of array: {arr.__repr__()}\")"
   ]
  },
  {
   "cell_type": "code",
   "execution_count": 46,
   "metadata": {},
   "outputs": [
    {
     "ename": "ValueError",
     "evalue": "The array is already full",
     "output_type": "error",
     "traceback": [
      "\u001b[0;31m---------------------------------------------------------------------------\u001b[0m",
      "\u001b[0;31mValueError\u001b[0m                                Traceback (most recent call last)",
      "Cell \u001b[0;32mIn[46], line 4\u001b[0m\n\u001b[1;32m      1\u001b[0m arr\u001b[38;5;241m.\u001b[39minsert(\u001b[38;5;241m-\u001b[39m\u001b[38;5;241m1.0\u001b[39m)\n\u001b[1;32m      2\u001b[0m arr\u001b[38;5;241m.\u001b[39minsert(\u001b[38;5;241m7.0\u001b[39m)\n\u001b[0;32m----> 4\u001b[0m arr\u001b[38;5;241m.\u001b[39minsert(\u001b[38;5;241m0.0\u001b[39m)\n",
      "File \u001b[0;32m~/dsa/dsa/python/arrays/unsorted_array.py:110\u001b[0m, in \u001b[0;36mUnsortedArray.insert\u001b[0;34m(self, new_entry)\u001b[0m\n\u001b[1;32m    102\u001b[0m \u001b[38;5;250m\u001b[39m\u001b[38;5;124;03m'''\u001b[39;00m\n\u001b[1;32m    103\u001b[0m \u001b[38;5;124;03mInsert an entry into an unsorted array.\u001b[39;00m\n\u001b[1;32m    104\u001b[0m \n\u001b[1;32m    105\u001b[0m \u001b[38;5;124;03mParameters:\u001b[39;00m\n\u001b[1;32m    106\u001b[0m \u001b[38;5;124;03m    new_entry (Any): The entry to insert.\u001b[39;00m\n\u001b[1;32m    107\u001b[0m \u001b[38;5;124;03m'''\u001b[39;00m\n\u001b[1;32m    109\u001b[0m \u001b[38;5;28;01mif\u001b[39;00m \u001b[38;5;28mself\u001b[39m\u001b[38;5;241m.\u001b[39m_size \u001b[38;5;241m>\u001b[39m\u001b[38;5;241m=\u001b[39m \u001b[38;5;28mlen\u001b[39m(\u001b[38;5;28mself\u001b[39m\u001b[38;5;241m.\u001b[39m_array):\n\u001b[0;32m--> 110\u001b[0m     \u001b[38;5;28;01mraise\u001b[39;00m \u001b[38;5;167;01mValueError\u001b[39;00m(\u001b[38;5;124m'\u001b[39m\u001b[38;5;124mThe array is already full\u001b[39m\u001b[38;5;124m'\u001b[39m)\n\u001b[1;32m    111\u001b[0m \u001b[38;5;28;01melse\u001b[39;00m:\n\u001b[1;32m    112\u001b[0m     \u001b[38;5;28mself\u001b[39m\u001b[38;5;241m.\u001b[39m_array[\u001b[38;5;28mself\u001b[39m\u001b[38;5;241m.\u001b[39m_size] \u001b[38;5;241m=\u001b[39m new_entry\n",
      "\u001b[0;31mValueError\u001b[0m: The array is already full"
     ]
    }
   ],
   "source": [
    "arr.insert(-1.0)\n",
    "arr.insert(7.0)\n",
    "\n",
    "arr.insert(0.0)"
   ]
  },
  {
   "cell_type": "code",
   "execution_count": 13,
   "metadata": {},
   "outputs": [
    {
     "name": "stdout",
     "output_type": "stream",
     "text": [
      "String representation of array: UnsortedArray(array('f', [2.0, 4.0, 7.0]))\n",
      "Minimum value of 2.0 at index 0\n",
      "Maximum value of 7.0 at index 2\n"
     ]
    }
   ],
   "source": [
    "def min_max_in_array(array: UnsortedArray) -> Union[int, float, int, float]:\n",
    "    if len(array) == 0:\n",
    "        raise Exception('Min of an empty array')\n",
    "    min_index = 0\n",
    "    max_index = 0\n",
    "    for index in range(1, len(array)):\n",
    "        if array[index] < array[min_index]:\n",
    "            min_index = index\n",
    "        elif array[index] > array[max_index]:\n",
    "            max_index = index\n",
    "    return min_index, array[min_index], max_index, array[max_index]\n",
    "\n",
    "min_index, min_value, max_index, max_value = min_max_in_array(arr)\n",
    "print(f\"String representation of array: {arr.__repr__()}\")\n",
    "print(f\"Minimum value of {min_value} at index {min_index}\")\n",
    "print(f\"Maximum value of {max_value} at index {max_index}\")"
   ]
  },
  {
   "cell_type": "code",
   "execution_count": null,
   "metadata": {},
   "outputs": [],
   "source": []
  }
 ],
 "metadata": {
  "kernelspec": {
   "display_name": "dsa",
   "language": "python",
   "name": "python3"
  },
  "language_info": {
   "codemirror_mode": {
    "name": "ipython",
    "version": 3
   },
   "file_extension": ".py",
   "mimetype": "text/x-python",
   "name": "python",
   "nbconvert_exporter": "python",
   "pygments_lexer": "ipython3",
   "version": "3.12.9"
  }
 },
 "nbformat": 4,
 "nbformat_minor": 2
}
